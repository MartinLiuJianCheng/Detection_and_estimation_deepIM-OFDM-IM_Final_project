{
  "nbformat": 4,
  "nbformat_minor": 0,
  "metadata": {
    "colab": {
      "name": "ofdmDeepIM.ipynb",
      "provenance": [],
      "collapsed_sections": [],
      "include_colab_link": true
    },
    "kernelspec": {
      "name": "python3",
      "display_name": "Python 3"
    },
    "accelerator": "GPU"
  },
  "cells": [
    {
      "cell_type": "markdown",
      "metadata": {
        "id": "view-in-github",
        "colab_type": "text"
      },
      "source": [
        "<a href=\"https://colab.research.google.com/github/rvi077344/Detection_and_estimation_deepIM-OFDM-IM_Final_project/blob/master/ofdmDeepIM.ipynb\" target=\"_parent\"><img src=\"https://colab.research.google.com/assets/colab-badge.svg\" alt=\"Open In Colab\"/></a>"
      ]
    },
    {
      "cell_type": "code",
      "metadata": {
        "id": "wznxv28Nm9e0",
        "colab_type": "code",
        "outputId": "c1894bc2-0bd0-4652-e020-8e8b8dfd7fb9",
        "colab": {
          "base_uri": "https://localhost:8080/",
          "height": 877
        }
      },
      "source": [
        "!pip install tensorflow-gpu==1.15"
      ],
      "execution_count": 1,
      "outputs": [
        {
          "output_type": "stream",
          "text": [
            "Collecting tensorflow-gpu==1.15\n",
            "\u001b[?25l  Downloading https://files.pythonhosted.org/packages/a5/ad/933140e74973fb917a194ab814785e7c23680ca5dee6d663a509fe9579b6/tensorflow_gpu-1.15.0-cp36-cp36m-manylinux2010_x86_64.whl (411.5MB)\n",
            "\u001b[K     |████████████████████████████████| 411.5MB 17kB/s \n",
            "\u001b[?25hRequirement already satisfied: opt-einsum>=2.3.2 in /usr/local/lib/python3.6/dist-packages (from tensorflow-gpu==1.15) (3.2.1)\n",
            "Requirement already satisfied: astor>=0.6.0 in /usr/local/lib/python3.6/dist-packages (from tensorflow-gpu==1.15) (0.8.1)\n",
            "Collecting tensorboard<1.16.0,>=1.15.0\n",
            "\u001b[?25l  Downloading https://files.pythonhosted.org/packages/1e/e9/d3d747a97f7188f48aa5eda486907f3b345cd409f0a0850468ba867db246/tensorboard-1.15.0-py3-none-any.whl (3.8MB)\n",
            "\u001b[K     |████████████████████████████████| 3.8MB 38.8MB/s \n",
            "\u001b[?25hRequirement already satisfied: absl-py>=0.7.0 in /usr/local/lib/python3.6/dist-packages (from tensorflow-gpu==1.15) (0.9.0)\n",
            "Requirement already satisfied: google-pasta>=0.1.6 in /usr/local/lib/python3.6/dist-packages (from tensorflow-gpu==1.15) (0.2.0)\n",
            "Requirement already satisfied: protobuf>=3.6.1 in /usr/local/lib/python3.6/dist-packages (from tensorflow-gpu==1.15) (3.10.0)\n",
            "Requirement already satisfied: termcolor>=1.1.0 in /usr/local/lib/python3.6/dist-packages (from tensorflow-gpu==1.15) (1.1.0)\n",
            "Requirement already satisfied: six>=1.10.0 in /usr/local/lib/python3.6/dist-packages (from tensorflow-gpu==1.15) (1.12.0)\n",
            "Collecting tensorflow-estimator==1.15.1\n",
            "\u001b[?25l  Downloading https://files.pythonhosted.org/packages/de/62/2ee9cd74c9fa2fa450877847ba560b260f5d0fb70ee0595203082dafcc9d/tensorflow_estimator-1.15.1-py2.py3-none-any.whl (503kB)\n",
            "\u001b[K     |████████████████████████████████| 512kB 50.9MB/s \n",
            "\u001b[?25hRequirement already satisfied: wrapt>=1.11.1 in /usr/local/lib/python3.6/dist-packages (from tensorflow-gpu==1.15) (1.12.1)\n",
            "Requirement already satisfied: keras-preprocessing>=1.0.5 in /usr/local/lib/python3.6/dist-packages (from tensorflow-gpu==1.15) (1.1.2)\n",
            "Requirement already satisfied: wheel>=0.26 in /usr/local/lib/python3.6/dist-packages (from tensorflow-gpu==1.15) (0.34.2)\n",
            "Collecting gast==0.2.2\n",
            "  Downloading https://files.pythonhosted.org/packages/4e/35/11749bf99b2d4e3cceb4d55ca22590b0d7c2c62b9de38ac4a4a7f4687421/gast-0.2.2.tar.gz\n",
            "Requirement already satisfied: numpy<2.0,>=1.16.0 in /usr/local/lib/python3.6/dist-packages (from tensorflow-gpu==1.15) (1.18.4)\n",
            "Requirement already satisfied: grpcio>=1.8.6 in /usr/local/lib/python3.6/dist-packages (from tensorflow-gpu==1.15) (1.29.0)\n",
            "Requirement already satisfied: keras-applications>=1.0.8 in /usr/local/lib/python3.6/dist-packages (from tensorflow-gpu==1.15) (1.0.8)\n",
            "Requirement already satisfied: markdown>=2.6.8 in /usr/local/lib/python3.6/dist-packages (from tensorboard<1.16.0,>=1.15.0->tensorflow-gpu==1.15) (3.2.2)\n",
            "Requirement already satisfied: werkzeug>=0.11.15 in /usr/local/lib/python3.6/dist-packages (from tensorboard<1.16.0,>=1.15.0->tensorflow-gpu==1.15) (1.0.1)\n",
            "Requirement already satisfied: setuptools>=41.0.0 in /usr/local/lib/python3.6/dist-packages (from tensorboard<1.16.0,>=1.15.0->tensorflow-gpu==1.15) (47.1.1)\n",
            "Requirement already satisfied: h5py in /usr/local/lib/python3.6/dist-packages (from keras-applications>=1.0.8->tensorflow-gpu==1.15) (2.10.0)\n",
            "Requirement already satisfied: importlib-metadata; python_version < \"3.8\" in /usr/local/lib/python3.6/dist-packages (from markdown>=2.6.8->tensorboard<1.16.0,>=1.15.0->tensorflow-gpu==1.15) (1.6.0)\n",
            "Requirement already satisfied: zipp>=0.5 in /usr/local/lib/python3.6/dist-packages (from importlib-metadata; python_version < \"3.8\"->markdown>=2.6.8->tensorboard<1.16.0,>=1.15.0->tensorflow-gpu==1.15) (3.1.0)\n",
            "Building wheels for collected packages: gast\n",
            "  Building wheel for gast (setup.py) ... \u001b[?25l\u001b[?25hdone\n",
            "  Created wheel for gast: filename=gast-0.2.2-cp36-none-any.whl size=7540 sha256=8c153782bd35bc93d343dccc655d2ae3286a6bd92737b5cccbf40ea1cfc62769\n",
            "  Stored in directory: /root/.cache/pip/wheels/5c/2e/7e/a1d4d4fcebe6c381f378ce7743a3ced3699feb89bcfbdadadd\n",
            "Successfully built gast\n",
            "\u001b[31mERROR: tensorflow 2.2.0 has requirement gast==0.3.3, but you'll have gast 0.2.2 which is incompatible.\u001b[0m\n",
            "\u001b[31mERROR: tensorflow 2.2.0 has requirement tensorboard<2.3.0,>=2.2.0, but you'll have tensorboard 1.15.0 which is incompatible.\u001b[0m\n",
            "\u001b[31mERROR: tensorflow 2.2.0 has requirement tensorflow-estimator<2.3.0,>=2.2.0, but you'll have tensorflow-estimator 1.15.1 which is incompatible.\u001b[0m\n",
            "\u001b[31mERROR: tensorflow-probability 0.10.0 has requirement gast>=0.3.2, but you'll have gast 0.2.2 which is incompatible.\u001b[0m\n",
            "Installing collected packages: tensorboard, tensorflow-estimator, gast, tensorflow-gpu\n",
            "  Found existing installation: tensorboard 2.2.2\n",
            "    Uninstalling tensorboard-2.2.2:\n",
            "      Successfully uninstalled tensorboard-2.2.2\n",
            "  Found existing installation: tensorflow-estimator 2.2.0\n",
            "    Uninstalling tensorflow-estimator-2.2.0:\n",
            "      Successfully uninstalled tensorflow-estimator-2.2.0\n",
            "  Found existing installation: gast 0.3.3\n",
            "    Uninstalling gast-0.3.3:\n",
            "      Successfully uninstalled gast-0.3.3\n",
            "Successfully installed gast-0.2.2 tensorboard-1.15.0 tensorflow-estimator-1.15.1 tensorflow-gpu-1.15.0\n"
          ],
          "name": "stdout"
        }
      ]
    },
    {
      "cell_type": "code",
      "metadata": {
        "id": "_jNZO2yfmGxx",
        "colab_type": "code",
        "outputId": "8cdcd5ff-1582-4714-8114-4dca1405d763",
        "colab": {
          "base_uri": "https://localhost:8080/",
          "height": 84
        }
      },
      "source": [
        "import numpy as np\n",
        "import tensorflow as tf\n",
        "import scipy\n",
        "from scipy.special import binom\n",
        "print(scipy.__version__)\n",
        "print(tf.__version__)\n",
        "print(np.__version__)\n",
        "device_name = tf.test.gpu_device_name()\n",
        "if device_name != '/device:GPU:0':\n",
        "  raise SystemError('GPU device not found')\n",
        "print('Found GPU at: {}'.format(device_name))"
      ],
      "execution_count": 2,
      "outputs": [
        {
          "output_type": "stream",
          "text": [
            "1.4.1\n",
            "1.15.0\n",
            "1.18.4\n",
            "Found GPU at: /device:GPU:0\n"
          ],
          "name": "stdout"
        }
      ]
    },
    {
      "cell_type": "code",
      "metadata": {
        "id": "2vZ0b0bgmXOb",
        "colab_type": "code",
        "outputId": "b41aca92-f621-4c7f-d1dc-1a9faee758c1",
        "colab": {
          "base_uri": "https://localhost:8080/",
          "height": 34
        }
      },
      "source": [
        "N = 4 # number of sub-carriers\n",
        "K = 1 # number of active sub-carriers\n",
        "M = 4 # M-ary modulation order\n",
        "SNRdb = 10 # Training SNR\n",
        "\n",
        "traing_epochs = 1000\n",
        "l_rate = 0.001 \n",
        "total_batch = 20 # number of batches per epoch\n",
        "batch_size = 1000\n",
        "\n",
        "n_hidden_1 = 32 # smaller for Tanh, larger for ReLu\n",
        "n_input = 3*N\n",
        "\n",
        "m = int(np.log2(M))\n",
        "c = int(np.log2(binom(N,K)))\n",
        "q = K*m + c # number of bits per OFDM-IM symbol\n",
        "print('Output number of the system: ',q)\n",
        "Q = 2**q\n",
        "n_output = q\n",
        "display_step = 10\n",
        "SNR = 10**(SNRdb/10)\n",
        "sigma = np.sqrt(1/SNR)\n",
        "qam_factor = (2/3)*(M-1)\n",
        "\n",
        "bits = np.random.binomial(n=1, p=0.5, size = (q,))\n",
        "a = 1/np.sqrt(2)"
      ],
      "execution_count": 3,
      "outputs": [
        {
          "output_type": "stream",
          "text": [
            "Output number of the system:  4\n"
          ],
          "name": "stdout"
        }
      ]
    },
    {
      "cell_type": "code",
      "metadata": {
        "id": "UL_gdt9im0BK",
        "colab_type": "code",
        "outputId": "32dc1fc7-d6d1-44aa-d117-8885f74255e7",
        "colab": {
          "base_uri": "https://localhost:8080/",
          "height": 50
        }
      },
      "source": [
        "# M-ary modulations\n",
        "if M==4:\n",
        "    QAM = np.array([1+1j, 1-1j, -1+1j, -1-1j], dtype=complex) # gray mapping\n",
        "elif M==8:\n",
        "    QAM = np.array([1, a+a*1j, -a+a*1j, 1j, a-a*1j, -1j, -1, -a-a*1j], dtype=complex) # 8PSK, not 8QAM indeed\n",
        "    qam_factor = 1\n",
        "elif M==16:\n",
        "    QAM = np.array([-3+3j, -3+1j, -3-3j, -3-1j, -1+3j, -1+1j, -1-3j, -1-1j, 3+3j, 3+1j, 3-3j, 3-1j, 1+3j, 1+1j, 1-3j, 1-1j], dtype=complex)\n",
        "else:\n",
        "    QAM = np.array([1, -1], dtype=complex) #BPSK\n",
        "    qam_factor = 1\n",
        "\n",
        "print(\"QAM number is \",M,\".\")\n",
        "print(\"QAM factor is \",qam_factor,\".\")\n",
        "power = np.sqrt(N/K/qam_factor) # power allocation factor\n",
        "\n",
        "# index patterns for N=4 and K=1,2,3 only\n",
        "if K==1:\n",
        "    idx = np.array([[0],[1],[2],[3]])\n",
        "elif K==2:\n",
        "    idx = np.array([[0,1],[2,3],[0,2],[1,3]]) \n",
        "else:\n",
        "    idx = np.array([[0,1,2],[1,2,3],[0,2,3],[0,1,3]]) "
      ],
      "execution_count": 4,
      "outputs": [
        {
          "output_type": "stream",
          "text": [
            "QAM number is  4 .\n",
            "QAM factor is  2.0 .\n"
          ],
          "name": "stdout"
        }
      ]
    },
    {
      "cell_type": "code",
      "metadata": {
        "id": "kkxwDX94nP7T",
        "colab_type": "code",
        "outputId": "7c18e5c7-7b52-4210-9be9-91d62d52fabe",
        "colab": {
          "base_uri": "https://localhost:8080/",
          "height": 34
        }
      },
      "source": [
        "def OFDM_IM_received(bits, SNRdb):   \n",
        "    bit_id = bits[0:c:1]\n",
        "    id_de = bit_id.dot(2**np.arange(bit_id.size)[::-1])\n",
        "    \n",
        "    bit_sy = bits[c:q:1]   \n",
        "    bit_K = bit_sy.reshape(-1,m)\n",
        "    sy_de = np.zeros((K,), dtype=int)\n",
        "    sym = np.zeros((K,), dtype=complex)\n",
        "    for i in range(K):\n",
        "        bit_sy_i = bit_K[i,:]\n",
        "        sy_de[i] = bit_sy_i.dot(2**np.arange(bit_sy_i.size)[::-1])\n",
        "        sym[i] = QAM[sy_de[i]]\n",
        "\n",
        "    tx_sym = np.zeros((N,), dtype=complex)\n",
        "    tx_sym[idx[id_de,:]] = sym\n",
        "    tx_sym = tx_sym*power\n",
        "    \n",
        "    SNR = 10**(SNRdb/10)\n",
        "    sigma = np.sqrt(1/SNR)\n",
        "    #eps = 1./(1 + SNR) # imperfect CSI\n",
        "    eps = 0.0\n",
        "    \n",
        "    noise = sigma*np.sqrt(1/2)*(np.random.randn(*tx_sym.shape)+1j*np.random.randn(*tx_sym.shape))\n",
        "    h = np.sqrt((1-eps)/2)*(np.random.randn(*tx_sym.shape)+1j*np.random.randn(*tx_sym.shape))\n",
        "    e = np.sqrt(eps/2)*(np.random.randn(*tx_sym.shape)+1j*np.random.randn(*tx_sym.shape))\n",
        "    h1 = h + e\n",
        "    \n",
        "    y = h1*tx_sym + noise\n",
        "    y_bar = y/h\n",
        "    y_con = np.concatenate((np.real(y_bar),np.imag(y_bar)))\n",
        "    y_m = np.absolute(y)\n",
        "    Y = np.concatenate((y_con,y_m))\n",
        "\n",
        "    return Y  \n",
        "\n",
        "print(\"OFDM received defination.\")"
      ],
      "execution_count": 5,
      "outputs": [
        {
          "output_type": "stream",
          "text": [
            "OFDM received defination.\n"
          ],
          "name": "stdout"
        }
      ]
    },
    {
      "cell_type": "code",
      "metadata": {
        "id": "roucEiS0pMsX",
        "colab_type": "code",
        "outputId": "423368ba-ae5e-45f0-e940-b6f77cd9b2b3",
        "colab": {
          "base_uri": "https://localhost:8080/",
          "height": 238
        }
      },
      "source": [
        "X = tf.placeholder(\"float\", [None, n_input])\n",
        "Y = tf.placeholder(\"float\", [None, n_output])\n",
        "initializer = tf.contrib.layers.xavier_initializer()\n",
        "\n",
        "def encoder(x):\n",
        "    weights = {                    \n",
        "        'encoder_h1': tf.Variable(initializer([n_input, n_hidden_1])),\n",
        "        'encoder_h2': tf.Variable(initializer([n_hidden_1, n_output])),            \n",
        "    }\n",
        "    biases = {            \n",
        "        'encoder_b1': tf.Variable(initializer([n_hidden_1])),\n",
        "        'encoder_b2': tf.Variable(initializer([n_output])),          \n",
        "    \n",
        "    }\n",
        "    layer_1 = tf.nn.tanh(tf.add(tf.matmul(x, weights['encoder_h1']), biases['encoder_b1']))\n",
        "    layer_2 = tf.nn.sigmoid(tf.add(tf.matmul(layer_1, weights['encoder_h2']), biases['encoder_b2']))\n",
        "    return layer_2\n",
        "\n",
        "y_pred = encoder(X)\n",
        "y_true = Y\n",
        "\n",
        "cost = tf.reduce_mean(tf.pow(y_true - y_pred, 2)) #cost function\n",
        "learning_rate = tf.placeholder(tf.float32, shape=[])\n",
        "optimizer = tf.train.AdamOptimizer(learning_rate=learning_rate).minimize(cost)\n",
        "init = tf.global_variables_initializer()\n",
        "\n",
        "def frange(x, y, jump):\n",
        "  while x < y:\n",
        "    yield x\n",
        "    x += jump\n",
        "\n",
        "print(\"Network Structure is defined.\")"
      ],
      "execution_count": 6,
      "outputs": [
        {
          "output_type": "stream",
          "text": [
            "WARNING:tensorflow:\n",
            "The TensorFlow contrib module will not be included in TensorFlow 2.0.\n",
            "For more information, please see:\n",
            "  * https://github.com/tensorflow/community/blob/master/rfcs/20180907-contrib-sunset.md\n",
            "  * https://github.com/tensorflow/addons\n",
            "  * https://github.com/tensorflow/io (for I/O related ops)\n",
            "If you depend on functionality not listed there, please file an issue.\n",
            "\n",
            "WARNING:tensorflow:From /usr/local/lib/python3.6/dist-packages/tensorflow_core/python/ops/math_grad.py:1375: where (from tensorflow.python.ops.array_ops) is deprecated and will be removed in a future version.\n",
            "Instructions for updating:\n",
            "Use tf.where in 2.0, which has the same broadcast rule as np.where\n",
            "Network Structure is defined.\n"
          ],
          "name": "stdout"
        }
      ]
    },
    {
      "cell_type": "code",
      "metadata": {
        "id": "d2mSs09FpV0v",
        "colab_type": "code",
        "outputId": "2a8a8850-23cf-4a79-c5e0-93f2bf309e8a",
        "colab": {
          "base_uri": "https://localhost:8080/",
          "height": 1000
        }
      },
      "source": [
        "# Training and testing phases \n",
        "with tf.Session() as sess:\n",
        "    # Training\n",
        "    print(\"----------Start to train the network.----------\")\n",
        "    sess.run(init)\n",
        "    for epoch in range(traing_epochs):\n",
        "        avg_cost = 0.\n",
        "        for index_m in range(total_batch):\n",
        "            input_samples = []\n",
        "            input_labels = []\n",
        "            for index_k in range(0, batch_size):\n",
        "                bits = np.random.binomial(n=1, p=0.5, size=(q,))\n",
        "                signal_output = OFDM_IM_received(bits, SNRdb)  \n",
        "                input_labels.append(bits)\n",
        "                input_samples.append(signal_output)\n",
        " \n",
        "            batch_x = np.asarray(input_samples)\n",
        "            batch_y = np.asarray(input_labels)\n",
        "            _,cs = sess.run([optimizer,cost], feed_dict={X:batch_x, Y:batch_y,learning_rate:l_rate})\n",
        "            avg_cost += cs / total_batch\n",
        "        if epoch % display_step == 0:\n",
        "            print(\"Epoch:\",'%04d' % (epoch+1), \"cost=\", \"{:.9f}\".format(avg_cost))\n",
        "\n",
        "    print(\"----------End training process.----------\")    \n",
        "    # Testing            \n",
        "    EbNodB_range = list(frange(0,35,5)) # 0dB - 30dB\n",
        "    ber = [None]*len(EbNodB_range)\n",
        "    print(\"----------Start the test process.----------\")\n",
        "    for n in range(0,len(EbNodB_range)):\n",
        "        input_samples_test = []\n",
        "        input_labels_test = []\n",
        "        test_number = 100000\n",
        "        if n>10:\n",
        "            test_number = 1000000\n",
        "        for i in range(0, test_number):\n",
        "            bits = np.random.binomial(n=1, p=0.5, size=(q, )) \n",
        "            signal_output = OFDM_IM_received(bits, EbNodB_range[n])\n",
        "            input_labels_test.append(bits)\n",
        "            input_samples_test.append(signal_output)\n",
        "            \n",
        "        batch_x = np.asarray(input_samples_test) #Convert the input to an array.\n",
        "        batch_y = np.asarray(input_labels_test)\n",
        "        \n",
        "        #print('Predicted y is ', sess.run(tf.sign(y_pred-0.5), feed_dict = {X:batch_x}))\n",
        "        #print('Batch_y is \\n', sess.run(tf.cast(tf.sign(batch_y-0.5),tf.float32)))\n",
        "        mean_error = tf.reduce_mean(abs(y_pred - batch_y)) # mean_error.eval({X:batch_x}),\n",
        "        mean_error_rate = 1-tf.reduce_mean(tf.reduce_mean(tf.to_float(tf.equal(tf.sign(y_pred-0.5), tf.cast(tf.sign(batch_y-0.5),tf.float32))),1))\n",
        "        ber[n]  = mean_error_rate.eval({X:batch_x}) # eval\n",
        "        print(\"SNR=\", EbNodB_range[n], \"BER:\", ber[n])"
      ],
      "execution_count": 7,
      "outputs": [
        {
          "output_type": "stream",
          "text": [
            "----------Start to train the network.----------\n",
            "Epoch: 0001 cost= 0.259478929\n",
            "Epoch: 0011 cost= 0.072973894\n",
            "Epoch: 0021 cost= 0.046226173\n",
            "Epoch: 0031 cost= 0.038294888\n",
            "Epoch: 0041 cost= 0.034708731\n",
            "Epoch: 0051 cost= 0.031334844\n",
            "Epoch: 0061 cost= 0.027774575\n",
            "Epoch: 0071 cost= 0.027383755\n",
            "Epoch: 0081 cost= 0.026226513\n",
            "Epoch: 0091 cost= 0.023445486\n",
            "Epoch: 0101 cost= 0.023355383\n",
            "Epoch: 0111 cost= 0.022417694\n",
            "Epoch: 0121 cost= 0.021876004\n",
            "Epoch: 0131 cost= 0.021173872\n",
            "Epoch: 0141 cost= 0.020353682\n",
            "Epoch: 0151 cost= 0.019999791\n",
            "Epoch: 0161 cost= 0.019808198\n",
            "Epoch: 0171 cost= 0.018979256\n",
            "Epoch: 0181 cost= 0.018274760\n",
            "Epoch: 0191 cost= 0.018374136\n",
            "Epoch: 0201 cost= 0.017610097\n",
            "Epoch: 0211 cost= 0.017382765\n",
            "Epoch: 0221 cost= 0.018041246\n",
            "Epoch: 0231 cost= 0.017413198\n",
            "Epoch: 0241 cost= 0.017653008\n",
            "Epoch: 0251 cost= 0.016773965\n",
            "Epoch: 0261 cost= 0.017386012\n",
            "Epoch: 0271 cost= 0.016142351\n",
            "Epoch: 0281 cost= 0.016521363\n",
            "Epoch: 0291 cost= 0.016570398\n",
            "Epoch: 0301 cost= 0.015380387\n",
            "Epoch: 0311 cost= 0.016713335\n",
            "Epoch: 0321 cost= 0.016447833\n",
            "Epoch: 0331 cost= 0.015790822\n",
            "Epoch: 0341 cost= 0.015579922\n",
            "Epoch: 0351 cost= 0.015330409\n",
            "Epoch: 0361 cost= 0.015890466\n",
            "Epoch: 0371 cost= 0.016083381\n",
            "Epoch: 0381 cost= 0.015708605\n",
            "Epoch: 0391 cost= 0.014983107\n",
            "Epoch: 0401 cost= 0.015562936\n",
            "Epoch: 0411 cost= 0.014591929\n",
            "Epoch: 0421 cost= 0.014999274\n",
            "Epoch: 0431 cost= 0.014889817\n",
            "Epoch: 0441 cost= 0.014727964\n",
            "Epoch: 0451 cost= 0.015030447\n",
            "Epoch: 0461 cost= 0.015542031\n",
            "Epoch: 0471 cost= 0.014936274\n",
            "Epoch: 0481 cost= 0.014471938\n",
            "Epoch: 0491 cost= 0.014752235\n",
            "Epoch: 0501 cost= 0.014487508\n",
            "Epoch: 0511 cost= 0.015169225\n",
            "Epoch: 0521 cost= 0.014394285\n",
            "Epoch: 0531 cost= 0.014720974\n",
            "Epoch: 0541 cost= 0.013635429\n",
            "Epoch: 0551 cost= 0.013977848\n",
            "Epoch: 0561 cost= 0.013959869\n",
            "Epoch: 0571 cost= 0.014380255\n",
            "Epoch: 0581 cost= 0.013766146\n",
            "Epoch: 0591 cost= 0.014788288\n",
            "Epoch: 0601 cost= 0.014552191\n",
            "Epoch: 0611 cost= 0.014666635\n",
            "Epoch: 0621 cost= 0.014189963\n",
            "Epoch: 0631 cost= 0.014156168\n",
            "Epoch: 0641 cost= 0.013567572\n",
            "Epoch: 0651 cost= 0.014486251\n",
            "Epoch: 0661 cost= 0.014896206\n",
            "Epoch: 0671 cost= 0.013364517\n",
            "Epoch: 0681 cost= 0.014100297\n",
            "Epoch: 0691 cost= 0.013961942\n",
            "Epoch: 0701 cost= 0.013734775\n",
            "Epoch: 0711 cost= 0.013389075\n",
            "Epoch: 0721 cost= 0.013701182\n",
            "Epoch: 0731 cost= 0.013652368\n",
            "Epoch: 0741 cost= 0.013460912\n",
            "Epoch: 0751 cost= 0.013408098\n",
            "Epoch: 0761 cost= 0.013740485\n",
            "Epoch: 0771 cost= 0.013365952\n",
            "Epoch: 0781 cost= 0.013457856\n",
            "Epoch: 0791 cost= 0.013585390\n",
            "Epoch: 0801 cost= 0.013392761\n",
            "Epoch: 0811 cost= 0.013651769\n",
            "Epoch: 0821 cost= 0.013779460\n",
            "Epoch: 0831 cost= 0.013664197\n",
            "Epoch: 0841 cost= 0.012775115\n",
            "Epoch: 0851 cost= 0.013447828\n",
            "Epoch: 0861 cost= 0.014291374\n",
            "Epoch: 0871 cost= 0.012746640\n",
            "Epoch: 0881 cost= 0.013270943\n",
            "Epoch: 0891 cost= 0.012987938\n",
            "Epoch: 0901 cost= 0.013377450\n",
            "Epoch: 0911 cost= 0.013417200\n",
            "Epoch: 0921 cost= 0.012431981\n",
            "Epoch: 0931 cost= 0.012896517\n",
            "Epoch: 0941 cost= 0.012590614\n",
            "Epoch: 0951 cost= 0.012499300\n",
            "Epoch: 0961 cost= 0.013565182\n",
            "Epoch: 0971 cost= 0.013624685\n",
            "Epoch: 0981 cost= 0.013129161\n",
            "Epoch: 0991 cost= 0.013849880\n",
            "----------End training process.----------\n",
            "----------Start the test process.----------\n",
            "WARNING:tensorflow:From <ipython-input-7-af74f15598a1>:47: to_float (from tensorflow.python.ops.math_ops) is deprecated and will be removed in a future version.\n",
            "Instructions for updating:\n",
            "Use `tf.cast` instead.\n",
            "SNR= 0 BER: 0.19639999\n",
            "SNR= 5 BER: 0.06813753\n",
            "SNR= 10 BER: 0.017244995\n",
            "SNR= 15 BER: 0.0038300157\n",
            "SNR= 20 BER: 0.00094747543\n",
            "SNR= 25 BER: 0.00031501055\n",
            "SNR= 30 BER: 0.00013500452\n"
          ],
          "name": "stdout"
        }
      ]
    },
    {
      "cell_type": "code",
      "metadata": {
        "id": "d6Ck2hgg4JpC",
        "colab_type": "code",
        "outputId": "757f1d32-4837-41e6-dc41-71e4b4390d6a",
        "colab": {
          "base_uri": "https://localhost:8080/",
          "height": 252
        }
      },
      "source": [
        "# BPSK AWGN channel BER performance\n",
        "from numpy import sqrt\n",
        "from numpy.random import rand, randn\n",
        "  \n",
        "N = 5000000\n",
        "EbNodB_range = range(0,35,5)\n",
        "itr = len(EbNodB_range)\n",
        "ber2 = [None]*itr\n",
        "\n",
        "for n in range (0, itr): \n",
        " \n",
        "    EbNodB = EbNodB_range[n]   \n",
        "    EbNo=10.0**(EbNodB/10.0)\n",
        "    x = 2 * (rand(N) >= 0.5) - 1\n",
        "    noise_std = 1/sqrt(2*EbNo)\n",
        "    y = x + noise_std * randn(N)\n",
        "    y_d = 2 * (y >= 0) - 1\n",
        "    errors = (x != y_d).sum()\n",
        "    ber2[n] = 1.0 * errors / N\n",
        "    \n",
        "    print(\"EbNodB:\", EbNodB)\n",
        "    #print(\"Error bits:\", errors)\n",
        "    print(\"Error probability:\", ber[n]) "
      ],
      "execution_count": 8,
      "outputs": [
        {
          "output_type": "stream",
          "text": [
            "EbNodB: 0\n",
            "Error probability: 0.19639999\n",
            "EbNodB: 5\n",
            "Error probability: 0.06813753\n",
            "EbNodB: 10\n",
            "Error probability: 0.017244995\n",
            "EbNodB: 15\n",
            "Error probability: 0.0038300157\n",
            "EbNodB: 20\n",
            "Error probability: 0.00094747543\n",
            "EbNodB: 25\n",
            "Error probability: 0.00031501055\n",
            "EbNodB: 30\n",
            "Error probability: 0.00013500452\n"
          ],
          "name": "stdout"
        }
      ]
    },
    {
      "cell_type": "code",
      "metadata": {
        "id": "paCFwrBuprtR",
        "colab_type": "code",
        "outputId": "ff54c774-3a46-4045-e745-5767a22e6372",
        "colab": {
          "base_uri": "https://localhost:8080/",
          "height": 101
        }
      },
      "source": [
        "# ML detectors\n",
        "ber3 = np.array([0.226491,0.103562,0.0369861,0.00980914,0.00213404,4.001810e-004,9.612538e-005])\n",
        "# LLR detectors\n",
        "ber4 = np.array([0.289978,0.144974,0.0512481,0.0141429,0.00320167,5.384964e-004,1.000000e-004])\n",
        "\n",
        "print(ber)\n",
        "# print(ber2)\n",
        "print(ber3)\n",
        "print(ber4)"
      ],
      "execution_count": 9,
      "outputs": [
        {
          "output_type": "stream",
          "text": [
            "[0.19639999, 0.06813753, 0.017244995, 0.0038300157, 0.00094747543, 0.00031501055, 0.00013500452]\n",
            "[2.264910e-01 1.035620e-01 3.698610e-02 9.809140e-03 2.134040e-03\n",
            " 4.001810e-04 9.612538e-05]\n",
            "[2.899780e-01 1.449740e-01 5.124810e-02 1.414290e-02 3.201670e-03\n",
            " 5.384964e-04 1.000000e-04]\n"
          ],
          "name": "stdout"
        }
      ]
    },
    {
      "cell_type": "code",
      "metadata": {
        "colab_type": "code",
        "outputId": "51b8aa99-2d8a-4a9a-85c9-d5cb6228c153",
        "id": "C1KIaSFf3sMa",
        "colab": {
          "base_uri": "https://localhost:8080/",
          "height": 279
        }
      },
      "source": [
        "import matplotlib.pyplot as plt\n",
        "plt.plot(EbNodB_range,ber,'b',label='DeepIM detector')\n",
        "plt.plot(EbNodB_range,ber3,'r',label='ML detector')\n",
        "plt.plot(EbNodB_range,ber4,'y',label='LLR detector')\n",
        "# plt.plot(list(EbNodB_range), ber_theory, 'ro-',label='BPSK BER')\n",
        "plt.yscale('log')\n",
        "plt.xlabel('SNR Range')\n",
        "plt.ylabel('BER')\n",
        "plt.legend(loc='upper right',ncol = 1)\n",
        "plt.grid()\n",
        "#plt.savefig('DL_Detection_IM_BER_matplotlib')\n",
        "plt.show()"
      ],
      "execution_count": 10,
      "outputs": [
        {
          "output_type": "display_data",
          "data": {
            "image/png": "[encoded data removed]",
            "text/plain": [
              "<Figure size 432x288 with 1 Axes>"
            ]
          },
          "metadata": {
            "tags": [],
            "needs_background": "light"
          }
        }
      ]
    },
    {
      "cell_type": "code",
      "metadata": {
        "id": "44SfvOF4snUY",
        "colab_type": "code",
        "colab": {}
      },
      "source": [
        ""
      ],
      "execution_count": 0,
      "outputs": []
    }
  ]
}